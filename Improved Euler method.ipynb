{
 "cells": [
  {
   "cell_type": "markdown",
   "id": "5c7cb7b4-8eff-4df9-8ba4-906832b40c7c",
   "metadata": {},
   "source": [
    "#### Improved Euler method"
   ]
  },
  {
   "cell_type": "code",
   "execution_count": 1,
   "id": "9719b90e-893e-42f4-982b-9cfeac48c930",
   "metadata": {},
   "outputs": [
    {
     "name": "stdin",
     "output_type": "stream",
     "text": [
      "Enter initial value of x (x0):  0\n",
      "Enter initial value of y (y0):  1\n",
      "Enter step size (h):  0.1\n",
      "Enter number of iterations (n):  10\n"
     ]
    },
    {
     "name": "stdout",
     "output_type": "stream",
     "text": [
      "Iteration = 1 x1 = 0.100 f(x) = 0.8200\n",
      "Iteration = 2 x1 = 0.200 f(x) = 0.6727\n",
      "Iteration = 3 x1 = 0.300 f(x) = 0.5526\n",
      "Iteration = 4 x1 = 0.400 f(x) = 0.4552\n",
      "Iteration = 5 x1 = 0.500 f(x) = 0.3767\n",
      "Iteration = 6 x1 = 0.600 f(x) = 0.3140\n",
      "Iteration = 7 x1 = 0.700 f(x) = 0.2643\n",
      "Iteration = 8 x1 = 0.800 f(x) = 0.2253\n",
      "Iteration = 9 x1 = 0.900 f(x) = 0.1949\n",
      "Iteration = 10 x1 = 1.000 f(x) = 0.1714\n",
      "Approximate solution: 0.1714\n"
     ]
    }
   ],
   "source": [
    "# Improved Euler method\n",
    "import math\n",
    "\n",
    "def f(x, y):\n",
    "    return -2 * y + x**3 * math.exp(-2 * x)\n",
    "\n",
    "def modified_euler(x0, y0, h, n):\n",
    "    x = x0\n",
    "    y = y0\n",
    "    for i in range(n):\n",
    "        y1 = y + h * f(x, y)\n",
    "        y2 = y + (h / 2) * (f(x, y) + f(x + h, y1))\n",
    "        x += h\n",
    "        y = y2\n",
    "        print(f\"Iteration = {i+1} x1 = {x:.3f} f(x) = {y:.4f}\")\n",
    "    return y\n",
    "\n",
    "# Input section\n",
    "x0 = float(input(\"Enter initial value of x (x0): \"))\n",
    "y0 = float(input(\"Enter initial value of y (y0): \"))\n",
    "h = float(input(\"Enter step size (h): \"))\n",
    "n = int(input(\"Enter number of iterations (n): \"))\n",
    "\n",
    "# Calculate approximate solution\n",
    "sol = modified_euler(x0, y0, h, n)\n",
    "print(f\"Approximate solution: {sol:.4f}\")"
   ]
  },
  {
   "cell_type": "code",
   "execution_count": null,
   "id": "520a8067-da63-4ff8-a182-68bfd8718a00",
   "metadata": {},
   "outputs": [],
   "source": []
  }
 ],
 "metadata": {
  "kernelspec": {
   "display_name": "Python 3 (ipykernel)",
   "language": "python",
   "name": "python3"
  },
  "language_info": {
   "codemirror_mode": {
    "name": "ipython",
    "version": 3
   },
   "file_extension": ".py",
   "mimetype": "text/x-python",
   "name": "python",
   "nbconvert_exporter": "python",
   "pygments_lexer": "ipython3",
   "version": "3.12.5"
  }
 },
 "nbformat": 4,
 "nbformat_minor": 5
}
