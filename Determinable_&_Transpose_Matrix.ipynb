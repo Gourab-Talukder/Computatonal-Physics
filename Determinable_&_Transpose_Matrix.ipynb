{
  "nbformat": 4,
  "nbformat_minor": 0,
  "metadata": {
    "colab": {
      "provenance": []
    },
    "kernelspec": {
      "name": "python3",
      "display_name": "Python 3"
    },
    "language_info": {
      "name": "python"
    }
  },
  "cells": [
    {
      "cell_type": "markdown",
      "source": [
        "## **`Determinant and Transpose of a 3x3 Matrix Using Python`**\n",
        "\n",
        "`This Python script demonstrates how to calculate the determinant and the transpose of a 3x3 matrix using numpy and a custom determinant function.`\n",
        "\n",
        "1. `The program prompts the user to input values for a 3x3 matrix. Each value is stored in variables (a to i) corresponding to the matrix elements:`\n",
        "  ```bash\n",
        "  | a  b  c |\n",
        "  | d  e  f |\n",
        "  | g  h  i |\n",
        "\n",
        "2. *`The matrix is stored as a 2D NumPy array:`*\n",
        " ```python\n",
        "    np.array([[a, b, c], [d, e, f], [g, h, i]])\n",
        "\n",
        "3. *`The determinant of a 3x3 matrix is calculated using a custom function determinate_3x3:`*\n",
        " ```python\n",
        " def determinate_3x3(a,b,c,d,e,f,g,h,i):\n",
        "  return a * (e * i - f * h) - b * (d * i - f * g) + c * (d * h - e * g)\n",
        "  \n",
        "  Formula: Determinant=a(ei−fh)−b(di−fg)+c(dh−eg)\n",
        "\n",
        "4. *`The result is printed:`*\n",
        " ```python\n",
        "    print(\"\\nDeterminant results:\", result)\n",
        "\n",
        "5. *`The transpose of the matrix is computed using the .T property of the NumPy array:`*\n",
        "  ```python\n",
        "    T = A.T\n",
        "    print(\"\\nTranspose of A matrix:\\n\")\n",
        "    print(T)\n"
      ],
      "metadata": {
        "id": "7OMSz5jk7v9G"
      }
    },
    {
      "cell_type": "code",
      "execution_count": 2,
      "metadata": {
        "colab": {
          "base_uri": "https://localhost:8080/"
        },
        "id": "PH5DUfPx6uMV",
        "outputId": "12539d8a-1248-403d-d606-938a38b06f2f"
      },
      "outputs": [
        {
          "output_type": "stream",
          "name": "stdout",
          "text": [
            "Enter a:-1\n",
            "Enter b:2\n",
            "Enter c:7\n",
            "Enter d:2\n",
            "Enter e:-1\n",
            "Enter f:-1\n",
            "Enter g:3\n",
            "Enter h:5\n",
            "Enter i:2\n",
            "\n",
            "Determinable Matrix\n",
            "\n",
            "[[-1.  2.  7.]\n",
            " [ 2. -1. -1.]\n",
            " [ 3.  5.  2.]]\n",
            "\n",
            "Determinat results: 74.0\n",
            "\n",
            "Transpose of A matrix:\n",
            "\n",
            "[[-1.  2.  3.]\n",
            " [ 2. -1.  5.]\n",
            " [ 7. -1.  2.]]\n"
          ]
        }
      ],
      "source": [
        "import numpy as np\n",
        "\n",
        "a = float(input(\"Enter a:\"))\n",
        "b = float(input(\"Enter b:\"))\n",
        "c = float(input(\"Enter c:\"))\n",
        "\n",
        "d = float(input(\"Enter d:\"))\n",
        "e = float(input(\"Enter e:\"))\n",
        "f = float(input(\"Enter f:\"))\n",
        "\n",
        "g = float(input(\"Enter g:\"))\n",
        "h = float(input(\"Enter h:\"))\n",
        "i = float(input(\"Enter i:\"))\n",
        "\n",
        "A = np.array([[a, b, c], [d, e, f], [g, h, i]])\n",
        "\n",
        "print(\"\\nDeterminable Matrix\\n\")\n",
        "print(A)\n",
        "\n",
        "def determinate_3x3(a,b,c,d,e,f,g,h,i):\n",
        "  return a * (e * i - f * h) - b * (d * i - f * g) + c * (d * h - e * g)\n",
        "\n",
        "result = determinate_3x3(a,b,c,d,e,f,g,h,i)\n",
        "print(\"\\nDeterminat results:\",result)\n",
        "print(\"\\nTranspose of A matrix:\\n\")\n",
        "T = A.T\n",
        "print(T)"
      ]
    }
  ]
}