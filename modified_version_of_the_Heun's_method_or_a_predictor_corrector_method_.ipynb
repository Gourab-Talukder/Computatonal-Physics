{
  "nbformat": 4,
  "nbformat_minor": 0,
  "metadata": {
    "colab": {
      "provenance": []
    },
    "kernelspec": {
      "name": "python3",
      "display_name": "Python 3"
    },
    "language_info": {
      "name": "python"
    }
  },
  "cells": [
    {
      "cell_type": "markdown",
      "source": [
        "## Function Definitions\n",
        "1. `Function f(x, y):`\n",
        "- This function calculates and returns a value based on the formula: `(x + y) / y**2.` It takes two arguments `x and y.`\n",
        "2. `Function modified(x, y, n, h):`\n",
        "\n",
        "- This is the main function that performs the computation. It uses an iterative method to calculate an approximate value.\n",
        "- Inputs:\n",
        "  - `x: Starting value of the independent variable.`\n",
        "  - `y: Starting value of the dependent variable.`\n",
        "  -`n: Number of steps in the iteration.`\n",
        "  - `h: Step size for each iteration.`\n",
        "3. `Process:`\n",
        "- A loop runs n times.\n",
        "- At each iteration:\n",
        "- Calculate an intermediate value `y0` using the formula: `y + h * f(x, y).`\n",
        "- Use `y0` to compute a corrected value `y1` with the formula: `y + (h / 2) * (f(x, y) + f(x + h, y0)).`\n",
        "- Update `x` by adding the step size `h.`\n",
        "- Update `y` to the value of `y1.`\n",
        "- After completing all iterations, the function returns the final value of `y`."
      ],
      "metadata": {
        "id": "O91s2cqpKdSO"
      }
    },
    {
      "cell_type": "code",
      "execution_count": 16,
      "metadata": {
        "colab": {
          "base_uri": "https://localhost:8080/"
        },
        "id": "Y7fTaP23KccN",
        "outputId": "cd5785ed-1c08-4137-92b7-317865d8c854"
      },
      "outputs": [
        {
          "output_type": "stream",
          "name": "stdout",
          "text": [
            "x\ty\tf(x,y)\ty\n",
            "------------------------------\n",
            "0.050\t1.050\t0.998\t1.050\n",
            "\n",
            "0.100\t1.100\t0.992\t1.100\n",
            "\n",
            "0.150\t1.149\t0.984\t1.149\n",
            "\n",
            "0.200\t1.198\t0.974\t1.198\n",
            "\n",
            "0.250\t1.246\t0.963\t1.246\n",
            "\n",
            "0.300\t1.294\t0.952\t1.294\n",
            "\n",
            "0.350\t1.342\t0.940\t1.342\n",
            "\n",
            "0.400\t1.388\t0.928\t1.388\n",
            "\n",
            "0.450\t1.434\t0.916\t1.434\n",
            "\n",
            "0.500\t1.480\t0.904\t1.480\n",
            "\n",
            "The approximate value: 1.4798600152629489\n"
          ]
        }
      ],
      "source": [
        "def f(x, y):\n",
        "    return (x + y) / y**2\n",
        "\n",
        "def modified(x, y, n, h):\n",
        "    print(f\"x\\ty\\tf(x,y)\\ty\")\n",
        "    print(\"-\"*30)\n",
        "    for _ in range(int(n)):\n",
        "        y0 = y + h * f(x, y)\n",
        "        y1 = y + (h/2) * (f(x, y) + f(x+h, y0))\n",
        "        x += h\n",
        "        y = y1\n",
        "        print(f\"{x:.3f}\\t{y:.3f}\\t{f(x,y):.3f}\\t{y:.3f}\\n\")\n",
        "    return y\n",
        "\n",
        "x = 0.0\n",
        "y = 1.0\n",
        "xn = 0.5\n",
        "n = 10\n",
        "h = (xn - x) / n\n",
        "\n",
        "result = modified(x, y, n, h)\n",
        "print(\"The approximate value:\", result)"
      ]
    }
  ]
}