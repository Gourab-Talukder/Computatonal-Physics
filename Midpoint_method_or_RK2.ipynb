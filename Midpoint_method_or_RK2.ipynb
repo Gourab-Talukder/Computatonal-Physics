{
  "nbformat": 4,
  "nbformat_minor": 0,
  "metadata": {
    "colab": {
      "provenance": []
    },
    "kernelspec": {
      "name": "python3",
      "display_name": "Python 3"
    },
    "language_info": {
      "name": "python"
    }
  },
  "cells": [
    {
      "cell_type": "markdown",
      "source": [
        "## Step-by-Step Explanation of the Code\n",
        "\n",
        "### Function Definitions\n",
        "\n",
        "1. **Function `f(x, y)`**:\n",
        "   - This function defines the mathematical relationship:\n",
        "     `2 * x + y`.\n",
        "   - Inputs:\n",
        "     - `x`: Independent variable.\n",
        "     - `y`: Dependent variable.\n",
        "\n",
        "2. **Function `rk2(x, y, x1, h, n)`**:\n",
        "   - This function implements the second-order Runge-Kutta method to approximate the solution of a differential equation.\n",
        "   - Inputs:\n",
        "     - `x`: Initial value of the independent variable.\n",
        "     - `y`: Initial value of the dependent variable.\n",
        "     - `x1`: Final value of the independent variable.\n",
        "     - `h`: Step size for iteration.\n",
        "     - `n`: Number of steps.\n",
        "   - Process:\n",
        "     - A loop runs `n` times to update `x` and `y` iteratively.\n",
        "     - At each iteration:\n",
        "       - Calculate `k1` as `h * f(x, y)`.\n",
        "       - Calculate `k2` as `h * f(x + h, y + k1)`.\n",
        "       - Update `y` using the average of `k1` and `k2`:  \n",
        "         `y = y + (k1 + k2) / 2`.\n",
        "       - Increment `x` by `h`.\n",
        "     - After the loop ends, the function returns the final value of `y`.\n",
        "\n",
        "---\n",
        "\n",
        "### Main Code Execution\n",
        "\n",
        "1. **Variable Initialization**:\n",
        "   - `x0` is set to `0` (initial value of the independent variable).\n",
        "   - `y0` is set to `0` (initial value of the dependent variable).\n",
        "   - `x1` is set to `0.5` (final value of the independent variable).\n",
        "   - `n` is set to `10` (number of steps).\n",
        "   - `h` is calculated as `(x1 - x0) / n`, giving the step size.\n",
        "\n",
        "2. **Call to `rk2` Function**:\n",
        "   - The `rk2` function is called with the initialized values of `x0`, `y0`, `x1`, `h`, and `n`.\n",
        "   - It calculates the approximate value of `y` at `x = 0.5`.\n",
        "\n",
        "3. **Output the Result**:\n",
        "   - The result returned by the `rk2` function is printed as:\n",
        "     `\"The Solution at\", result`.\n",
        "\n",
        "---\n",
        "\n",
        "### Explanation of the Runge-Kutta Method\n",
        "\n",
        "- The method used is the second-order Runge-Kutta method, which is an improvement over the simple Euler method.\n",
        "- The steps involve:\n",
        "  - Computing an initial slope `k1` (based on the current point).\n",
        "  - Computing a second slope `k2` (based on a predicted future point).\n",
        "  - Averaging `k1` and `k2` for better accuracy.\n",
        "- This method is often referred to as the **midpoint method** or **RK2**.\n",
        "\n",
        "---\n",
        "\n",
        "### Observations\n",
        "\n",
        "- The step size `h` determines how finely the interval is divided. Smaller step sizes typically yield more accurate results.\n",
        "- The loop ensures that the solution progresses iteratively from `x0` to `x1`.\n",
        "- The method improves accuracy by considering an additional slope calculation (`k2`) compared to simpler methods like Euler's method."
      ],
      "metadata": {
        "id": "jILafks4OqmJ"
      }
    },
    {
      "cell_type": "code",
      "source": [
        "def f(x, y):\n",
        "    return 2*x + y\n",
        "\n",
        "def rk2(x, y, x1, h, n):\n",
        "    print(f\"x\\tf(x,y)\\tk1\\tk2\\ty\")\n",
        "    print(\"-\"*40)\n",
        "    for _ in range(n):\n",
        "        k1 = h * f(x, y)\n",
        "        k2 = h * f(x + h, y + k1)\n",
        "        y = y + (k1 + k2) / 2\n",
        "        x = x + h\n",
        "        print(f\"{x:.3f}\\t{f(x,y):.3f}\\t{k1:.3f}\\t{k2:.3f}\\t{y:.6f}\\n\")\n",
        "    return y\n",
        "\n",
        "x0 = 0\n",
        "y0 = 0\n",
        "x1 = 0.5\n",
        "n = 10\n",
        "h = (x1 - x0) / n\n",
        "\n",
        "result = rk2(x0, y0, x1, h, n)\n",
        "print(f\"The Solution at: {result:.6f}\")"
      ],
      "metadata": {
        "colab": {
          "base_uri": "https://localhost:8080/"
        },
        "id": "FDb9QW1ROvOl",
        "outputId": "e4fa7db6-125b-4598-945f-bdbc5080bb4f"
      },
      "execution_count": 8,
      "outputs": [
        {
          "output_type": "stream",
          "name": "stdout",
          "text": [
            "x\tf(x,y)\tk1\tk2\ty\n",
            "----------------------------------------\n",
            "0.050\t0.103\t0.000\t0.005\t0.002500\n",
            "\n",
            "0.100\t0.210\t0.005\t0.010\t0.010253\n",
            "\n",
            "0.150\t0.324\t0.011\t0.016\t0.023529\n",
            "\n",
            "0.200\t0.443\t0.016\t0.022\t0.042609\n",
            "\n",
            "0.250\t0.568\t0.022\t0.028\t0.067793\n",
            "\n",
            "0.300\t0.699\t0.028\t0.035\t0.099393\n",
            "\n",
            "0.350\t0.838\t0.035\t0.042\t0.137736\n",
            "\n",
            "0.400\t0.983\t0.042\t0.049\t0.183170\n",
            "\n",
            "0.450\t1.136\t0.049\t0.057\t0.236058\n",
            "\n",
            "0.500\t1.297\t0.057\t0.065\t0.296781\n",
            "\n",
            "The Solution at: 0.296781\n"
          ]
        }
      ]
    }
  ]
}