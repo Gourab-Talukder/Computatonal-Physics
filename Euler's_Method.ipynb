{
  "nbformat": 4,
  "nbformat_minor": 0,
  "metadata": {
    "colab": {
      "provenance": []
    },
    "kernelspec": {
      "name": "python3",
      "display_name": "Python 3"
    },
    "language_info": {
      "name": "python"
    }
  },
  "cells": [
    {
      "cell_type": "markdown",
      "source": [
        "## Euler's Method in Python\n",
        "\n",
        "This code implements **Euler's Method** for solving ordinary differential equations (ODEs). Below is a line-by-line explanation:\n",
        "\n",
        "### 1. Define the Function `f(x, y)`\n",
        "- Takes x and y as inputs.\n",
        "- Prints a header for the output table, showing step information `xn,y0,slope, and yn`\n",
        "- Initializes `x and y` with the given starting values `x0 and y0.`\n",
        "- Prints the `step index n`, current `x and y` values, the `slope`, and the updated `y` value\n",
        "- Sets the initial conditions `x0=0, y0​=0`, `xn=1`, and the `step size h=0.25`."
      ],
      "metadata": {
        "id": "-0gNdirh2_aj"
      }
    },
    {
      "cell_type": "code",
      "source": [
        "def f(x, y):\n",
        "    return 3 * x + 4 * y\n",
        "\n",
        "def euler(x0, y0, h, n):\n",
        "    x, y = x0, y0\n",
        "    print(\"\\nsteps\\txn\\ty0\\tslope\\tyn\\n\")\n",
        "    print(\"-\"*38)\n",
        "    for i in range(int(n)):\n",
        "        slope = f(x, y)\n",
        "        y1 = y + h * slope\n",
        "        print(f\"{i+1}\\t{x:.2f}\\t{y:.2f}\\t{slope:.2f}\\t{y1:.2f}\\n\")\n",
        "        x += h\n",
        "        y = y1\n",
        "    return y\n",
        "\n",
        "x0 = 0\n",
        "y0 = 0\n",
        "xn = 1\n",
        "h = 0.25\n",
        "n = (xn - x0) / h\n",
        "\n",
        "result = euler(x0, y0, h, n)\n",
        "print(f\"\\nThe value of y at x = {xn} is {result:.4f}\\n\")"
      ],
      "metadata": {
        "colab": {
          "base_uri": "https://localhost:8080/"
        },
        "id": "OdopKO-J0D2Z",
        "outputId": "62254d0b-6210-46ac-8203-b2a390ad9e2a"
      },
      "execution_count": 10,
      "outputs": [
        {
          "output_type": "stream",
          "name": "stdout",
          "text": [
            "\n",
            "steps\txn\ty0\tslope\tyn\n",
            "\n",
            "--------------------------------------\n",
            "1\t0.00\t0.00\t0.00\t0.00\n",
            "\n",
            "2\t0.25\t0.00\t0.75\t0.19\n",
            "\n",
            "3\t0.50\t0.19\t2.25\t0.75\n",
            "\n",
            "4\t0.75\t0.75\t5.25\t2.06\n",
            "\n",
            "\n",
            "The value of y at x = 1 is 2.0625\n",
            "\n"
          ]
        }
      ]
    }
  ]
}