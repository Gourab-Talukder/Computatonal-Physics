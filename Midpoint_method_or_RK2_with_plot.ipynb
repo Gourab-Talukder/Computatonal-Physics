{
  "nbformat": 4,
  "nbformat_minor": 0,
  "metadata": {
    "colab": {
      "provenance": []
    },
    "kernelspec": {
      "name": "python3",
      "display_name": "Python 3"
    },
    "language_info": {
      "name": "python"
    }
  },
  "cells": [
    {
      "cell_type": "markdown",
      "source": [
        "## Explanation of the Code with Visualization\n",
        "\n",
        "### Function Definitions\n",
        "\n",
        "1. **Function `f(x, y)`**:\n",
        "   - This function defines the relationship:\n",
        "     `2 * x + y`.\n",
        "   - It is used to compute the slope of the solution at any given point `(x, y)`.\n",
        "\n",
        "2. **Function `rk2(x, y, x1, h, n)`**:\n",
        "   - This function implements the second-order Runge-Kutta method for solving differential equations and stores the results at each step.\n",
        "   - Inputs:\n",
        "     - `x`: Initial value of the independent variable.\n",
        "     - `y`: Initial value of the dependent variable.\n",
        "     - `x1`: Final value of the independent variable.\n",
        "     - `h`: Step size for iteration.\n",
        "     - `n`: Number of steps.\n",
        "   - Outputs:\n",
        "     - `xv`: A list of `x` values at each step.\n",
        "     - `yv`: A list of corresponding `y` values at each step.\n",
        "   - Process:\n",
        "     - Two empty lists `xv` and `yv` are created to store the `x` and `y` values at each step.\n",
        "     - A loop runs `n` times:\n",
        "       - `k1` is calculated as `h * f(x, y)`.\n",
        "       - `k2` is calculated as `h * f(x + h, y + k1)`.\n",
        "       - `y` is updated using the formula `y + (k1 + k2) / 2`.\n",
        "       - `x` is updated by adding `h`.\n",
        "       - The updated `x` and `y` values are appended to their respective lists.\n",
        "     - After the loop, `xv` and `yv` are returned.\n",
        "\n",
        "---\n",
        "\n",
        "### Main Code Execution\n",
        "\n",
        "1. **Initial Values**:\n",
        "   - `x0 = 0`: Starting value of the independent variable.\n",
        "   - `y0 = 0`: Starting value of the dependent variable.\n",
        "   - `x1 = 0.5`: Final value of the independent variable.\n",
        "   - `n = 10`: Number of steps.\n",
        "   - `h`: Step size is calculated as `(x1 - x0) / n`.\n",
        "\n",
        "2. **Call to `rk2`**:\n",
        "   - The function `rk2` is called with the initial values. It returns two lists:\n",
        "     - `xv`: List of `x` values.\n",
        "     - `yv`: List of `y` values.\n",
        "\n",
        "3. **Result Output**:\n",
        "   - The last value in `yv` (solution at `x = 0.5`) is printed.\n",
        "\n",
        "---\n",
        "\n",
        "### Visualization with Matplotlib\n",
        "\n",
        "1. **Plot the Results**:\n",
        "   - The `plt.plot()` function is used to plot `xv` against `yv` with a red line (`color='r'`).\n",
        "   - A grid is added to the plot for better visualization using `plt.grid()`.\n",
        "\n",
        "2. **Show the Plot**:\n",
        "   - `plt.show()` displays the plot, showing the progression of `y` values with respect to `x`.\n",
        "\n",
        "---\n",
        "\n",
        "### Observations\n",
        "\n",
        "- The plot illustrates the numerical solution of the differential equation over the interval `[0, 0.5]`.\n",
        "- The curve reflects how the dependent variable (`y`) changes as the independent variable (`x`) increases.\n",
        "- The step-by-step results are stored and visualized, providing both numerical and graphical insight into the solution."
      ],
      "metadata": {
        "id": "HlHNn1aCTE4B"
      }
    },
    {
      "cell_type": "code",
      "execution_count": 3,
      "metadata": {
        "colab": {
          "base_uri": "https://localhost:8080/",
          "height": 447
        },
        "id": "aMbKnIIfS5gW",
        "outputId": "379ae687-07c2-47f4-9b37-7a77c41c789c"
      },
      "outputs": [
        {
          "output_type": "stream",
          "name": "stdout",
          "text": [
            "The Solution at 0.2967808870805381\n"
          ]
        },
        {
          "output_type": "display_data",
          "data": {
            "text/plain": [
              "<Figure size 640x480 with 1 Axes>"
            ],
            "image/png": "[encoded data removed]"
          },
          "metadata": {}
        }
      ],
      "source": [
        "import matplotlib.pyplot as plt\n",
        "def f(x, y):\n",
        "    return 2*x + y\n",
        "def rk2(x, y, x1, h, n):\n",
        "    xv, yv =[], []\n",
        "    for _ in range(n):\n",
        "        k1 = h * f(x, y)\n",
        "        k2 = h * f(x + h, y + k1)\n",
        "        y = y + (k1 + k2) / 2\n",
        "        x = x + h\n",
        "        xv.append(x)\n",
        "        yv.append(y)\n",
        "    return xv, yv\n",
        "\n",
        "x0 = 0\n",
        "y0 = 0\n",
        "x1 = 0.5\n",
        "n = 10\n",
        "h = ((x1 - x0) / n)\n",
        "xv, yv, = rk2(x0, y0, x1, h, n)\n",
        "print(\"The Solution at\", yv[-1])\n",
        "plt.plot(xv, yv, color = 'r')\n",
        "plt.grid()\n",
        "plt.show()"
      ]
    }
  ]
}