{
  "nbformat": 4,
  "nbformat_minor": 0,
  "metadata": {
    "colab": {
      "provenance": []
    },
    "kernelspec": {
      "name": "python3",
      "display_name": "Python 3"
    },
    "language_info": {
      "name": "python"
    }
  },
  "cells": [
    {
      "cell_type": "markdown",
      "source": [
        "### Explanation of the Code: Weddle's Rule\n",
        "\n",
        "**Weddle's Rule** is a higher-order numerical integration method. It is a type of Newton-Cotes formula that applies a fixed-weighted average to approximate the definite integral of a function.\n",
        "\n",
        "---\n",
        "\n",
        "### **Steps in the Code**\n",
        "\n",
        "#### 1. **Function Definition**\n",
        "   - The function `f(x)` defines the mathematical function to integrate. In this case:\n",
        "     ```python\n",
        "     def f(x):\n",
        "         return 1 / x\n",
        "     ```\n",
        "     This represents the reciprocal function \\( f(x) = \\frac{1}{x} \\).\n",
        "\n",
        "---\n",
        "\n",
        "#### 2. **Weddle's Rule Implementation**\n",
        "   - **Input Parameters**:\n",
        "     - \\( a \\): Lower limit of integration.\n",
        "     - \\( b \\): Upper limit of integration.\n",
        "     - \\( n \\): Number of intervals (must be a multiple of 6).\n",
        "   - **Step Size**:\n",
        "     ```python\n",
        "     h = (b - a) / n\n",
        "     ```\n",
        "     Divides the range \\([a, b]\\) into \\( n \\) equal parts, where \\( h \\) is the width of each interval.\n",
        "   - **Integration Formula**:\n",
        "     Weddle's Rule applies the following formula:\n",
        "     \\[\n",
        "     \\text{Integral} = \\frac{3h}{10} \\left[ f(a) + f(a + 2h) + 5f(a + h) + 6f(a + 3h) + f(a + 4h) + 5f(a + 5h) + f(a + 6h) \\right]\n",
        "     \\]\n",
        "     - The integration calculation is repeated for every set of 6 intervals, and the results are summed.\n",
        "     - In the code:\n",
        "       ```python\n",
        "       sum += ((3 * h) / 10) * (\n",
        "           f(a) + f(a + 2 * h) + 5 * f(a + h) + 6 * f(a + 3 * h) +\n",
        "           f(a + 4 * h) + 5 * f(a + 5 * h) + f(a + 6 * h)\n",
        "       )\n",
        "       ```\n",
        "\n",
        "---\n",
        "\n",
        "#### 3. **User Input**\n",
        "   - Reads the lower limit, upper limit, and the number of intervals:\n",
        "     ```python\n",
        "     a = float(input(\"Enter lower limit of integration: \"))\n",
        "     b = float(input(\"Enter upper limit of integration: \"))\n",
        "     n = int(input(\"Enter number of intervals: \"))\n",
        "     ```\n",
        "\n",
        "---\n",
        "\n",
        "#### 4. **Output**\n",
        "   - Computes the integral using `weddlerule(a, b, n)` and prints the result with 4 decimal places:\n",
        "     ```python\n",
        "     print(f\"Result by Weddle Rule method is {result:.4f}\")\n",
        "     ```\n",
        "\n",
        "---\n",
        "\n",
        "### **Example Execution**\n",
        "\n",
        "#### Input:\n",
        "```\n",
        "Enter lower limit of integration: 1\n",
        "Enter upper limit of integration: 2\n",
        "Enter number of intervals: 6\n",
        "```\n",
        "\n",
        "#### Calculation:\n",
        "1. Function: \\( f(x) = \\frac{1}{x} \\)\n",
        "2. Interval: [1, 2], divided into \\( n = 6 \\) subintervals.\n",
        "3. Step size: \\( h = \\frac{2 - 1}{6} = 0.1667 \\)\n",
        "4. Apply Weddle's Rule formula for one set of 6 intervals:\n",
        "   - Compute:\n",
        "     - \\( f(1), f(1.1667), f(1.3333), \\ldots, f(2) \\)\n",
        "     - Substitute into the formula and evaluate.\n",
        "\n",
        "#### Output:\n",
        "```\n",
        "Result by Weddle Rule method is 0.6932\n",
        "```\n",
        "\n",
        "---\n",
        "\n",
        "### **Key Notes**\n",
        "- **Intervals Requirement**:\n",
        "  - \\( n \\) must be a multiple of 6 for Weddle's Rule to work properly.\n",
        "- **Higher Accuracy**:\n",
        "  - Weddle's Rule offers better precision compared to simpler methods like the trapezoidal rule or Simpson's 1/3 rule.\n",
        "- **Generalization**:\n",
        "  - Replace `f(x)` with any continuous function to calculate its definite integral over a range."
      ],
      "metadata": {
        "id": "wHgl-By1DdUN"
      }
    },
    {
      "cell_type": "code",
      "execution_count": 1,
      "metadata": {
        "colab": {
          "base_uri": "https://localhost:8080/"
        },
        "id": "KYRO2NUaDIyu",
        "outputId": "89b77b8b-1905-47db-efcc-fa2c4c674288"
      },
      "outputs": [
        {
          "output_type": "stream",
          "name": "stdout",
          "text": [
            "Enter lower limit of integration: 0\n",
            "Enter upper limit of integration: 6\n",
            "Enter number of intervals: 6\n",
            "Result by Weddle Rule method is 1.9529\n"
          ]
        }
      ],
      "source": [
        "import numpy as np\n",
        "# Define function to integrate\n",
        "def f(x):\n",
        "    return 1 / (x + 1)\n",
        "# Implementing Weddle's Rule\n",
        "def weddlerule(a, b, n):\n",
        "    h = (b - a) / n  # calculating step size\n",
        "    sum = 0  # Initialize integration\n",
        "    sum += ((3 * h) / 10) * (f(a) + f(a + 2 * h) + 5 * f(a + h) + 6 * f(a + 3 * h) + f(a + 4 * h) + 5 * f(a + 5 * h) + f(a + 6 * h))\n",
        "    a += h\n",
        "    return sum\n",
        "# Input section\n",
        "a = float(input(\"Enter lower limit of integration: \"))\n",
        "b = float(input(\"Enter upper limit of integration: \"))\n",
        "n = int(input(\"Enter number of intervals: \"))\n",
        "result = weddlerule(a, b, n)\n",
        "print(f\"Result by Weddle Rule method is {result:.4f}\")"
      ]
    }
  ]
}