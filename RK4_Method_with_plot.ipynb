{
  "nbformat": 4,
  "nbformat_minor": 0,
  "metadata": {
    "colab": {
      "provenance": []
    },
    "kernelspec": {
      "name": "python3",
      "display_name": "Python 3"
    },
    "language_info": {
      "name": "python"
    }
  },
  "cells": [
    {
      "cell_type": "markdown",
      "source": [
        "## Explanation of the Code with RK4 Method and Visualization\n",
        "\n",
        "### Function Definitions\n",
        "\n",
        "1. **Function `f(x, y)`**:\n",
        "   - This function defines the relationship:\n",
        "     `2 * x + y`.\n",
        "   - It represents the differential equation to be solved.\n",
        "\n",
        "2. **Function `rk4(x, y, x1, h, n)`**:\n",
        "   - This function implements the **fourth-order Runge-Kutta (RK4)** method for solving differential equations.\n",
        "   - Inputs:\n",
        "     - `x`: Initial value of the independent variable.\n",
        "     - `y`: Initial value of the dependent variable.\n",
        "     - `x1`: Final value of the independent variable.\n",
        "     - `h`: Step size for iteration.\n",
        "     - `n`: Number of steps.\n",
        "   - Outputs:\n",
        "     - `xv`: A list of `x` values at each step.\n",
        "     - `yv`: A list of corresponding `y` values at each step.\n",
        "   - Process:\n",
        "     - Two empty lists, `xv` and `yv`, are initialized to store the `x` and `y` values for visualization.\n",
        "     - The loop runs `n` times to update `x` and `y` iteratively:\n",
        "       - Calculate intermediate slopes:\n",
        "         - `k1 = h * f(x, y)`\n",
        "         - `k2 = h * f(x + h/2, y + k1/2)`\n",
        "         - `k3 = h * f(x + h/2, y + k2/2)`\n",
        "         - `k4 = h * f(x + h, y + k3)`\n",
        "       - Update `y` using:\n",
        "         `y + (1/6) * (k1 + 2*k2 + 2*k3 + k4)`\n",
        "       - Increment `x` by `h`.\n",
        "       - Append updated `x` and `y` values to `xv` and `yv`.\n",
        "     - After the loop, return `xv` and `yv`.\n",
        "\n",
        "---\n",
        "\n",
        "### Main Code Execution\n",
        "\n",
        "1. **Initial Values**:\n",
        "   - `x = 0`: Starting value of the independent variable.\n",
        "   - `y = 0.5`: Starting value of the dependent variable.\n",
        "   - `x1 = 1`: Final value of the independent variable.\n",
        "   - `n = 10`: Number of steps.\n",
        "   - `h = (x1 - x) / n`: Step size.\n",
        "\n",
        "2. **Call to `rk4` Function**:\n",
        "   - The function is called with the initial values, returning:\n",
        "     - `xv`: List of `x` values at each step.\n",
        "     - `yv`: List of `y` values at each step.\n",
        "\n",
        "3. **Print Result**:\n",
        "   - The last value in `yv` is printed as the solution at `x = 1`.\n",
        "\n",
        "---\n",
        "\n",
        "### Visualization with Matplotlib\n",
        "\n",
        "1. **Plot the Results**:\n",
        "   - Use `plt.plot(xv, yv, color='r')` to plot the values of `xv` against `yv` with a red line.\n",
        "\n",
        "2. **Add Grid and Show Plot**:\n",
        "   - Add a grid using `plt.grid()` for better visualization.\n",
        "   - Display the plot using `plt.show()`.\n",
        "\n",
        "---\n",
        "\n",
        "### Explanation of RK4 Method\n",
        "\n",
        "- **RK4** is a higher-order numerical method that provides a very accurate solution by calculating four intermediate slopes (`k1`, `k2`, `k3`, `k4`) at each step:\n",
        "  - `k1`: Slope at the beginning of the interval.\n",
        "  - `k2`: Slope at the midpoint using the value of `k1`.\n",
        "  - `k3`: Another midpoint slope using `k2`.\n",
        "  - `k4`: Slope at the end of the interval using `k3`.\n",
        "- The final value of `y` is updated by averaging these slopes with appropriate weights.\n",
        "\n",
        "---\n",
        "\n",
        "### Observations\n",
        "\n",
        "- The RK4 method is more accurate than lower-order methods like RK2 or Euler's method.\n",
        "- The plot shows the progression of `y` values with respect to `x` over the interval `[0, 1]`.\n",
        "- The last value in `yv` provides the solution at `x = 1`."
      ],
      "metadata": {
        "id": "L1V7XlDVUMPp"
      }
    },
    {
      "cell_type": "code",
      "execution_count": 1,
      "metadata": {
        "colab": {
          "base_uri": "https://localhost:8080/",
          "height": 447
        },
        "id": "348HcapJUKW6",
        "outputId": "435e74f0-9728-41d0-ed3a-d60f50f7183d"
      },
      "outputs": [
        {
          "output_type": "stream",
          "name": "stdout",
          "text": [
            "The Solution at 2.532031134342269\n"
          ]
        },
        {
          "output_type": "display_data",
          "data": {
            "text/plain": [
              "<Figure size 640x480 with 1 Axes>"
            ],
            "image/png": "[encoded data removed]"
          },
          "metadata": {}
        }
      ],
      "source": [
        "import matplotlib.pyplot as plt\n",
        "def f(x, y):\n",
        "    return 2*x + y\n",
        "def rk4(x, y, x1, h, n):\n",
        "    xv, yv =[], []\n",
        "    for _ in range(1, n+1):\n",
        "        k1 = h * f(x, y)\n",
        "        k2 = h * f(x + h/2, y + k1/2)\n",
        "        k3 = h * f(x + h/2, y + k2/2)\n",
        "        k4 = h * f(x + h, k3)\n",
        "        x = x + h\n",
        "        y1 = y + (1/6) * (k1 + 2*k2 + 2*k3 + k4)\n",
        "        y = y1\n",
        "        xv.append(x)\n",
        "        yv.append(y)\n",
        "    return xv, yv\n",
        "\n",
        "x = 0\n",
        "y = 0.5\n",
        "x1 = 1\n",
        "n = 10\n",
        "h = ((x1 - x) / n)\n",
        "xv, yv, = rk4(x, y, x1, h, n)\n",
        "print(\"The Solution at\", yv[-1])\n",
        "plt.plot(xv, yv, color = 'r')\n",
        "plt.grid()\n",
        "plt.show()"
      ]
    },
    {
      "cell_type": "markdown",
      "source": [
        "### Without plot"
      ],
      "metadata": {
        "id": "78Kfj9AHUtuH"
      }
    },
    {
      "cell_type": "code",
      "source": [
        "def f(x, y):\n",
        "    return 2*x + y\n",
        "\n",
        "def rk4(x, y, x1, h, n):\n",
        "    print(f\"x\\tf(x,y)\\tk1\\tk2\\tk3\\tk4\\ty\")\n",
        "    print(\"-\"*60)\n",
        "    for _ in range(1, n+1):\n",
        "        k1 = h * f(x, y)\n",
        "        k2 = h * f(x + h/2, y + k1/2)\n",
        "        k3 = h * f(x + h/2, y + k2/2)\n",
        "        k4 = h * f(x + h, k3)\n",
        "        x = x + h\n",
        "        y1 = y + (1/6) * (k1 + 2*k2 + 2*k3 + k4)\n",
        "        y = y1\n",
        "        print(f\"{x:.3f}\\t{f(x,y):.3f}\\t{k1:.3f}\\t{k2:.3f}\\t{k3:.3f}\\t{k4:.3f}\\t{y:.6f}\\n\")\n",
        "    return y\n",
        "\n",
        "x = 0\n",
        "y = 0.5\n",
        "x1 = 1\n",
        "n = 10\n",
        "h = (x1 - x) / n\n",
        "\n",
        "result = rk4(x, y, x1, h, n)\n",
        "print(\"The Solution at\", result)"
      ],
      "metadata": {
        "colab": {
          "base_uri": "https://localhost:8080/"
        },
        "id": "F_djsL97UtUR",
        "outputId": "20d9b79c-a838-412d-86e2-9c1cc7a0254c"
      },
      "execution_count": 4,
      "outputs": [
        {
          "output_type": "stream",
          "name": "stdout",
          "text": [
            "x\tf(x,y)\tk1\tk2\tk3\tk4\ty\n",
            "------------------------------------------------------------\n",
            "0.100\t0.755\t0.050\t0.062\t0.063\t0.026\t0.554594\n",
            "\n",
            "0.200\t1.035\t0.075\t0.089\t0.090\t0.049\t0.635053\n",
            "\n",
            "0.300\t1.344\t0.104\t0.119\t0.119\t0.072\t0.743668\n",
            "\n",
            "0.400\t1.683\t0.134\t0.151\t0.152\t0.095\t0.882930\n",
            "\n",
            "0.500\t2.056\t0.168\t0.187\t0.188\t0.119\t1.055552\n",
            "\n",
            "0.600\t2.464\t0.206\t0.226\t0.227\t0.143\t1.264485\n",
            "\n",
            "0.700\t2.913\t0.246\t0.269\t0.270\t0.167\t1.512944\n",
            "\n",
            "0.800\t3.404\t0.291\t0.316\t0.317\t0.192\t1.804426\n",
            "\n",
            "0.900\t3.943\t0.340\t0.367\t0.369\t0.217\t2.142741\n",
            "\n",
            "1.000\t4.532\t0.394\t0.424\t0.425\t0.243\t2.532031\n",
            "\n",
            "The Solution at 2.532031134342269\n"
          ]
        }
      ]
    }
  ]
}