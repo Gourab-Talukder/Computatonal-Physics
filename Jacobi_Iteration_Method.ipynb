{
  "nbformat": 4,
  "nbformat_minor": 0,
  "metadata": {
    "colab": {
      "provenance": []
    },
    "kernelspec": {
      "name": "python3",
      "display_name": "Python 3"
    },
    "language_info": {
      "name": "python"
    }
  },
  "cells": [
    {
      "cell_type": "markdown",
      "source": [
        "## Explanation of Jacobi Iteration Code\n",
        "\n",
        "### Introduction\n",
        "This Python code uses the **Jacobi Iteration Method** to approximate the solution of a system of linear equations. Jacobi iteration solves a set of equations by iteratively updating each variable based on the previous values of the others.\n",
        "\n",
        "---\n",
        "\n",
        "### Code Walkthrough\n",
        "\n",
        "#### **1. Defining the Equations**\n",
        "Each function corresponds to an equation of the system, rearranged to isolate  ne variable.\n",
        "- `f1 calculates `x` based on `y` and `z`.`\n",
        "- `f2 calculates `y` based on `x` and `z`.`\n",
        "- `f3 calculates `z` based on `x` and `y`.`\n",
        "\n",
        "Initial Step:\n",
        "- `Sets initial guesses for x0 = 0, y0 = 0, z0 = 0`\n",
        "- `Initializes count to 1 for tracking iterations count = 1`\n",
        "\n",
        "Number of Iterations\n",
        "- `Sets the number of iterations 𝑛 = 7. This determines how many times the equations will be solved iteratively.`\n",
        "\n",
        "Header for Output\n",
        "- `Prints a header to display iteration results in tabular form. print('\\nCount\\tx\\ty\\tz\\n')`\n",
        "\n",
        "While Loop\n",
        "- `while count <= n: Repeats the iteration process until the count exceeds n`\n",
        "\n",
        "Function\n",
        "- `x1 = f1(x0, y0, z0)`\n",
        "- `y1 = f2(x0, y0, z0)`\n",
        "- `z1 = f3(x0, y0, z0)`\n",
        "- `Computes the updated values  x1, y1, and z1 using the defined functions and the previous values of x0, y0 and z0`\n",
        "\n",
        "Update and Increment\n",
        "- `count += 1`\n",
        "- `x0 = x1`\n",
        "- `y0 = y1`\n",
        "- `z0 = z1`\n",
        "- `Updates x0, y0, and z0 to the newly computed values for the next iteration`\n",
        "- `Increments count to move to the next iteration.`\n",
        "\n",
        "Print Final Result\n",
        "- `print('\\nSolution after %d iterations: x=%0.1f, y=%0.1f, and z=%0.1f\\n' % (n, x1, y1, z1))`\n",
        "- `After completing n iterations, prints the approximate solutions for x, y, and z rounded to one decimal place.`\n",
        "\n",
        "## **Key Concepts:**\n",
        "- `Jacobi Iteration: A numerical method to solve systems of linear equations iteratively by assuming initial guesses and refining them.`\n",
        "- `Convergence: The method works when the system satisfies specific conditions (e.g., diagonal dominance). The number of iterations n determines the approximation's accuracy.`\n",
        "- `Iterative Process: Updates each variable using the latest values of the others, keeping the current iteration independent of future values.`\n",
        "\n",
        "\n",
        "\n",
        "\n",
        "\n",
        "\n"
      ],
      "metadata": {
        "id": "Uvsf4KaV7Uxk"
      }
    },
    {
      "cell_type": "code",
      "execution_count": 1,
      "metadata": {
        "colab": {
          "base_uri": "https://localhost:8080/"
        },
        "id": "2yne8W-g6_N-",
        "outputId": "dc765f6b-79af-4bc3-f0c1-2bd27bb8c5da"
      },
      "outputs": [
        {
          "output_type": "stream",
          "name": "stdout",
          "text": [
            "\n",
            "Count\tx\ty\tz\n",
            "\n",
            "1\t0.6667\t0.6000\t6.7500\n",
            "\n",
            "2\t1.5917\t-0.8833\t6.2667\n",
            "\n",
            "3\t2.0056\t-0.9717\t6.1750\n",
            "\n",
            "4\t2.0197\t-1.0361\t5.9901\n",
            "\n",
            "5\t2.0104\t-1.0020\t5.9992\n",
            "\n",
            "6\t2.0005\t-1.0019\t5.9953\n",
            "\n",
            "7\t1.9999\t-0.9992\t6.0002\n",
            "\n",
            "\n",
            "Solution after 7 iterations: x=2.0, y=-1.0, and z=6.0\n",
            "\n"
          ]
        }
      ],
      "source": [
        "# Defining equations to be solved\n",
        "def f1(x, y, z):\n",
        "    return (4 - 2 * y + z) / 6\n",
        "\n",
        "def f2(x, y, z):\n",
        "    return (3 - x - z) / 5\n",
        "\n",
        "def f3(x, y, z):\n",
        "    return (27 - 2 * x - y) / 4\n",
        "\n",
        "# Initial setup\n",
        "x0 = 0\n",
        "y0 = 0\n",
        "z0 = 0\n",
        "count = 1\n",
        "\n",
        "# Number of iterations\n",
        "n = 7\n",
        "\n",
        "# Implementation of Jacobi Iteration\n",
        "print('\\nCount\\tx\\ty\\tz\\n')\n",
        "\n",
        "while count <= n:\n",
        "    x1 = f1(x0, y0, z0)\n",
        "    y1 = f2(x0, y0, z0)\n",
        "    z1 = f3(x0, y0, z0)\n",
        "    print('%d\\t%0.4f\\t%0.4f\\t%0.4f\\n' % (count, x1, y1, z1))\n",
        "\n",
        "    count += 1\n",
        "    x0 = x1\n",
        "    y0 = y1\n",
        "    z0 = z1\n",
        "\n",
        "print('\\nSolution after %d iterations: x=%0.1f, y=%0.1f, and z=%0.1f\\n' % (n, x1, y1, z1))"
      ]
    }
  ]
}