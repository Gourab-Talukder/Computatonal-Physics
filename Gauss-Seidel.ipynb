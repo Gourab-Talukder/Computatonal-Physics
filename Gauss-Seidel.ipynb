{
 "cells": [
  {
   "cell_type": "markdown",
   "id": "96e11568-c0a8-40df-976f-f4c7093f37fd",
   "metadata": {},
   "source": [
    "###  Example Execution\n",
    "#### For a system where the equations are: 20x+y−2z=17, 3x+20y−z=−18, 2x−3y+20z=25"
   ]
  },
  {
   "cell_type": "code",
   "execution_count": 3,
   "id": "a22a539f-3c98-47bf-953b-907ef70be83f",
   "metadata": {},
   "outputs": [
    {
     "name": "stdin",
     "output_type": "stream",
     "text": [
      "Enter the number of iterations (n):  5\n"
     ]
    },
    {
     "name": "stdout",
     "output_type": "stream",
     "text": [
      "\n",
      "Count\tx\ty\tz\n",
      "1\t0.8500\t-0.9000\t1.2500\n",
      "2\t1.0200\t-0.9650\t1.0300\n",
      "3\t1.0012\t-1.0015\t1.0032\n",
      "4\t1.0004\t-1.0000\t0.9996\n",
      "5\t1.0000\t-1.0001\t1.0000\n",
      "\n",
      "Solution after 5 iterations: x=1.0, y=-1.0, and z=1.0\n"
     ]
    }
   ],
   "source": [
    "# Function definitions\n",
    "def f1(x, y, z):\n",
    "    return (17 - y + 2 * z) / 20\n",
    "\n",
    "def f2(x, y, z):\n",
    "    return (-18 - 3 * x + z) / 20\n",
    "\n",
    "def f3(x, y, z):\n",
    "    return (25 - 2 * x + 3 * y) / 20\n",
    "\n",
    "# Initial setup\n",
    "x0, y0, z0 = 0, 0, 0\n",
    "count = 1\n",
    "n = int(input(\"Enter the number of iterations (n): \"))\n",
    "\n",
    "# Implementation of Jacobi Iteration\n",
    "print(\"\\nCount\\tx\\ty\\tz\")\n",
    "while count <= n:\n",
    "    x1 = f1(x0, y0, z0)\n",
    "    y1 = f2(x0, y0, z0)\n",
    "    z1 = f3(x0, y0, z0)\n",
    "    print(f\"{count}\\t{x1:.4f}\\t{y1:.4f}\\t{z1:.4f}\")\n",
    "    count += 1\n",
    "    x0, y0, z0 = x1, y1, z1\n",
    "\n",
    "print(f\"\\nSolution after {n} iterations: x={x0:.1f}, y={y0:.1f}, and z={z0:.1f}\")"
   ]
  },
  {
   "cell_type": "code",
   "execution_count": null,
   "id": "1b3290e7-392f-4c9b-ad26-e54e4555cc38",
   "metadata": {},
   "outputs": [],
   "source": []
  }
 ],
 "metadata": {
  "kernelspec": {
   "display_name": "Python 3 (ipykernel)",
   "language": "python",
   "name": "python3"
  },
  "language_info": {
   "codemirror_mode": {
    "name": "ipython",
    "version": 3
   },
   "file_extension": ".py",
   "mimetype": "text/x-python",
   "name": "python",
   "nbconvert_exporter": "python",
   "pygments_lexer": "ipython3",
   "version": "3.12.5"
  }
 },
 "nbformat": 4,
 "nbformat_minor": 5
}
