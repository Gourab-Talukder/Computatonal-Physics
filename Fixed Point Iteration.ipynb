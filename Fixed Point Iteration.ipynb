{
 "cells": [
  {
   "cell_type": "markdown",
   "id": "013b88c5-54bd-44ae-9ca3-76f7e948def3",
   "metadata": {},
   "source": [
    "#### 1. First write the equation x=ϕ(x)\n",
    "#### 2. Find points a and b such that a<b and f(a)⋅f(b)<0.\n",
    "#### 3. If f(a) is more closer to 0 then f(b) then x0=a else x0=b\n",
    "#### 4. x1=ϕ(x0)\n",
    "####    x2=ϕ(x1)\n",
    "####    x3=ϕ(x2)\n",
    "####    ...\n",
    "####    Repeat until |f(xi)-f(xi-1)|≈0"
   ]
  },
  {
   "cell_type": "code",
   "execution_count": 2,
   "id": "a480d1a5-c53e-41dd-9079-23f7d21fb96d",
   "metadata": {},
   "outputs": [
    {
     "name": "stdin",
     "output_type": "stream",
     "text": [
      "Enter initial guess x0:  1.5\n",
      "Enter tolerable error e:  0.0001\n",
      "Enter maximum iteration N:  50\n"
     ]
    },
    {
     "name": "stdout",
     "output_type": "stream",
     "text": [
      "\n",
      "Step\tx0\t\tf(x0)\t\tx1\t\tf(x1)\n",
      "\n",
      "1\t1.5000\t0.8750\t1.3572\t0.1428\n",
      "2\t1.3572\t0.1428\t1.3309\t0.0263\n",
      "3\t1.3309\t0.0263\t1.3259\t0.0050\n",
      "4\t1.3259\t0.0050\t1.3249\t0.0009\n",
      "5\t1.3249\t0.0009\t1.3248\t0.0002\n",
      "6\t1.3248\t0.0002\t1.3247\t0.0000\n",
      "\n",
      "Root is 1.32473\n"
     ]
    }
   ],
   "source": [
    "import math\n",
    "\n",
    "# Define the functions\n",
    "def f(x):\n",
    "    return x**3 - x - 1\n",
    "\n",
    "def g(x):\n",
    "    return math.cbrt(x + 1)\n",
    "\n",
    "# Get the inputs\n",
    "x0 = float(input(\"Enter initial guess x0: \"))\n",
    "e = float(input(\"Enter tolerable error e: \"))\n",
    "N = int(input(\"Enter maximum iteration N: \"))\n",
    "\n",
    "# Initialize the variables\n",
    "step = 1\n",
    "\n",
    "# Implementing Fixed Point Iteration\n",
    "print(\"\\nStep\\tx0\\t\\tf(x0)\\t\\tx1\\t\\tf(x1)\\n\")\n",
    "while True:\n",
    "    x1 = g(x0)\n",
    "    print(f\"{step}\\t{x0:.4f}\\t{f(x0):.4f}\\t{x1:.4f}\\t{f(x1):.4f}\")\n",
    "    step += 1\n",
    "    if step > N:\n",
    "        print(\"Not Convergent.\")\n",
    "        break\n",
    "    x0 = x1\n",
    "    if abs(f(x1)) < e:\n",
    "        break\n",
    "\n",
    "print(f\"\\nRoot is {x1:.5f}\")"
   ]
  },
  {
   "cell_type": "code",
   "execution_count": null,
   "id": "ca52c7d2-428b-4f12-9e35-6c1691a8d92a",
   "metadata": {},
   "outputs": [],
   "source": []
  }
 ],
 "metadata": {
  "kernelspec": {
   "display_name": "Python 3 (ipykernel)",
   "language": "python",
   "name": "python3"
  },
  "language_info": {
   "codemirror_mode": {
    "name": "ipython",
    "version": 3
   },
   "file_extension": ".py",
   "mimetype": "text/x-python",
   "name": "python",
   "nbconvert_exporter": "python",
   "pygments_lexer": "ipython3",
   "version": "3.12.5"
  }
 },
 "nbformat": 4,
 "nbformat_minor": 5
}
