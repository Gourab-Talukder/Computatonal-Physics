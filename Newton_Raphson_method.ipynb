{
  "nbformat": 4,
  "nbformat_minor": 0,
  "metadata": {
    "colab": {
      "provenance": []
    },
    "kernelspec": {
      "name": "python3",
      "display_name": "Python 3"
    },
    "language_info": {
      "name": "python"
    }
  },
  "cells": [
    {
      "cell_type": "markdown",
      "source": [
        "## Explanation of the Newton-Raphson Method Code\n",
        "\n",
        "`Imports the numpy library as np for mathematical functions like cos and sin.`\n",
        "\n",
        "Function Definitions\n",
        "- `def f(x) Defines the function f(x), which represents the equation we want to find the root of:`\n",
        "- `f(x) = 3x - cos(x) - 1`\n",
        "- `def g(x) Defines the derivative of f(x), g(x), used to update the guess in Newton-Raphson:`\n",
        "- `f(g) = df(x)/dx = 3 + sin(x)`\n",
        "- `def newton_raphson(x1, slope, e, n):`\n",
        "- `Implements the Newton-Raphson iterative method to approximate the root of f(x)`\n",
        "- `for _ in range(1, n + 1) Loops up to a maximum of n iterations.`\n",
        "\n",
        "\n",
        "\n",
        "- `if abs(g(x1)) < slope: Checks if the slope g(x) is too small (less than slope). A small slope can cause the method to fail due to division by very small values.`\n",
        "- `Updates the guess using the Newton-Raphson formula x1 = x1 - f(x1) / g(x1)`\n",
        "- `if abs(f(x1)/g(x1)) < e: Checks the stopping condition. If the correction term f(x)/g(x) is smaller than the tolerance e, it prints the root and exits the loop.`\n",
        "- `Sets the initial guess x1, the minimum slope slope, the tolerance e, and the maximum number of iterations n.`\n",
        "- `Calls the newton_raphson function with the specified parameters to approximate the root`\n",
        "\n",
        "## Key Concepts\n",
        "- **Newton-Raphson Method:** `An iterative method to find roots of a real-valued function by using its derivative.`\n",
        "- **Convergence:** `Relies on the derivative g(x) not being too small and f(x) having a root near the initial guess.`\n",
        "- **Stopping Criteria:** `Stops when the correction term is less than the desired accuracy e or the maximum number of iterations is reached.`"
      ],
      "metadata": {
        "id": "2HhClKOgIVxc"
      }
    },
    {
      "cell_type": "code",
      "execution_count": 1,
      "metadata": {
        "id": "Ym5JayU1ChT3",
        "colab": {
          "base_uri": "https://localhost:8080/"
        },
        "outputId": "2d785f3f-8c30-4b80-c97f-aef8afda1280"
      },
      "outputs": [
        {
          "output_type": "stream",
          "name": "stdout",
          "text": [
            "initial guess: 1\n",
            "The Root is : 0.6071\n"
          ]
        }
      ],
      "source": [
        "import numpy as np\n",
        "def f(x):\n",
        "    return 3 * x - np.cos(x) - 1\n",
        "def g(x):\n",
        "    return 3 + np.sin(x)\n",
        "def newton_raphson(x1, slope, e, n):\n",
        "    for _ in range(1, n + 1):\n",
        "      if abs(g(x1)) < slope:\n",
        "        print(\"Too small slope can't find\")\n",
        "        break\n",
        "      x1 = x1 - f(x1) / g(x1)\n",
        "      if abs(f(x1)/g(x1)) < e:\n",
        "        print(f\"The Root is : {x1:.4f}\")\n",
        "        break\n",
        "\n",
        "# Set initial values\n",
        "x1 = float(input(\"initial guess: \"))      # initial guess\n",
        "slope = 0.01\n",
        "e = 0.000001\n",
        "n = 10000\n",
        "\n",
        "# Call the Newton-Raphson method\n",
        "newton_raphson(x1, slope, e, n)"
      ]
    }
  ]
}