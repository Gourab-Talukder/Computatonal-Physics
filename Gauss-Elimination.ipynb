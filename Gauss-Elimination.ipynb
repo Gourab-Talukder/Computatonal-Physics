{
 "cells": [
  {
   "cell_type": "markdown",
   "id": "48551dd5-974f-4b00-9c3a-cc6ed36d8c77",
   "metadata": {},
   "source": [
    "#### Equations : 2x+3y+z=1, 4x+y+2z=2, 3x+2y+3z=3\n",
    "#### Matrix : \n",
    "####          2 3 1 1\n",
    "####          4 1 2 2\n",
    "####          3 2 3 3"
   ]
  },
  {
   "cell_type": "code",
   "execution_count": 3,
   "id": "2c55f132-068a-41d3-9e26-46cc221b478d",
   "metadata": {},
   "outputs": [
    {
     "name": "stdin",
     "output_type": "stream",
     "text": [
      "Enter number of matrix type (N x N):  3\n"
     ]
    },
    {
     "name": "stdout",
     "output_type": "stream",
     "text": [
      "Enter Augmented Matrix Coefficients:\n"
     ]
    },
    {
     "name": "stdin",
     "output_type": "stream",
     "text": [
      "a[0][0]= 2\n",
      "a[0][1]= 3\n",
      "a[0][2]= 1\n",
      "a[0][3]= 1\n",
      "a[1][0]= 4\n",
      "a[1][1]= 1\n",
      "a[1][2]= 2\n",
      "a[1][3]= 2\n",
      "a[2][0]= 3\n",
      "a[2][1]= 2\n",
      "a[2][2]= 3\n",
      "a[2][3]= 3\n"
     ]
    },
    {
     "name": "stdout",
     "output_type": "stream",
     "text": [
      "The solution of the system:\n",
      "X0 = 0.00\tX1 = -0.00\tX2 = 1.00\t\n"
     ]
    }
   ],
   "source": [
    "import numpy as np\n",
    "\n",
    "# Input data for Elimination\n",
    "n = int(input(\"Enter number of matrix type (N x N): \"))\n",
    "\n",
    "# Augmented matrix will be (n x (n+1))\n",
    "aug_matrix = np.zeros((n, n+1), float)\n",
    "\n",
    "print(\"Enter Augmented Matrix Coefficients:\")\n",
    "for i in range(n):\n",
    "    for j in range(n + 1):\n",
    "        aug_matrix[i, j] = float(input(f\"a[{i}][{j}]=\"))\n",
    "\n",
    "# Separate the augmented matrix into 'a' and 'b'\n",
    "a = aug_matrix[:, :-1]\n",
    "b = aug_matrix[:, -1]\n",
    "\n",
    "x = np.zeros(n, float)\n",
    "\n",
    "# Forward Elimination\n",
    "for k in range(n-1):\n",
    "    for i in range(k+1, n):\n",
    "        fctr = a[i, k] / a[k, k]\n",
    "        for j in range(k, n):\n",
    "            a[i, j] -= fctr * a[k, j]\n",
    "        b[i] -= fctr * b[k]\n",
    "\n",
    "# Back-substitution\n",
    "x[n-1] = b[n-1] / a[n-1, n-1]\n",
    "for i in range(n-2, -1, -1):\n",
    "    Sum = b[i]\n",
    "    for j in range(i+1, n):\n",
    "        Sum -= a[i, j] * x[j]\n",
    "    x[i] = Sum / a[i, i]\n",
    "\n",
    "print(\"The solution of the system:\")\n",
    "for i in range(n):\n",
    "    print(f\"X{i} = {x[i]:.2f}\", end=\"\\t\")\n",
    "print()\n"
   ]
  },
  {
   "cell_type": "code",
   "execution_count": null,
   "id": "d4db215b-c8d8-47d7-825d-b27da1e493ef",
   "metadata": {},
   "outputs": [],
   "source": []
  }
 ],
 "metadata": {
  "kernelspec": {
   "display_name": "Python 3 (ipykernel)",
   "language": "python",
   "name": "python3"
  },
  "language_info": {
   "codemirror_mode": {
    "name": "ipython",
    "version": 3
   },
   "file_extension": ".py",
   "mimetype": "text/x-python",
   "name": "python",
   "nbconvert_exporter": "python",
   "pygments_lexer": "ipython3",
   "version": "3.12.5"
  }
 },
 "nbformat": 4,
 "nbformat_minor": 5
}
