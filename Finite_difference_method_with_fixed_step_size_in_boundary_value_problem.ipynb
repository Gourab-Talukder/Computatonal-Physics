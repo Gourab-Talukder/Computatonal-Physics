{
  "nbformat": 4,
  "nbformat_minor": 0,
  "metadata": {
    "colab": {
      "provenance": []
    },
    "kernelspec": {
      "name": "python3",
      "display_name": "Python 3"
    },
    "language_info": {
      "name": "python"
    }
  },
  "cells": [
    {
      "cell_type": "markdown",
      "source": [
        "This code solves a boundary value problem (BVP) using the finite difference method. Here's the breakdown of the key components and their functions:\n",
        "\n",
        "---\n",
        "\n",
        "### **Problem Setup**\n",
        "\n",
        "#### **Differential Equation**\n",
        "The equation is:\n",
        "\\[\n",
        "\\frac{d^2y}{dx^2} = 6x - 2\n",
        "\\]\n",
        "with boundary conditions:\n",
        "\\[\n",
        "y(0) = 1, \\quad y(1) = 2\n",
        "\\]\n",
        "\n",
        "---\n",
        "\n",
        "### **Discretization**\n",
        "\n",
        "1. **Domain**:\n",
        "   - Discretized into \\( n \\) intervals of size \\( h \\):\n",
        "     \\[\n",
        "     x_i = i \\cdot h, \\quad i = 0, 1, \\dots, n\n",
        "     \\]\n",
        "\n",
        "2. **Finite Difference Approximation**:\n",
        "   - The second derivative is approximated as:\n",
        "     \\[\n",
        "     \\frac{d^2y}{dx^2} \\approx \\frac{y_{i-1} - 2y_i + y_{i+1}}{h^2}\n",
        "     \\]\n",
        "\n",
        "   Substituting into the equation:\n",
        "     \\[\n",
        "     -y_{i-1} + 2y_i - y_{i+1} = h^2 \\cdot f(x_i)\n",
        "     \\]\n",
        "\n",
        "   Rearranged for \\( y_i \\):\n",
        "     \\[\n",
        "     y_i = 0.5 \\cdot (h^2 \\cdot f(x_i) + y_{i-1} + y_{i+1})\n",
        "     \\]\n",
        "\n",
        "---\n",
        "\n",
        "### **Numerical Solution**\n",
        "\n",
        "1. **Iterative Solver**:\n",
        "   - The solution array \\( y \\) is updated iteratively using the formula above.\n",
        "   - The boundary conditions \\( y[0] = 1 \\) and \\( y[-1] = 2 \\) are fixed.\n",
        "\n",
        "2. **Convergence Check**:\n",
        "   - Iteration stops when successive updates differ by less than \\( 10^{-6} \\) (absolute tolerance).\n",
        "\n",
        "---\n",
        "\n",
        "### **Step Size**\n",
        "The step size \\( h \\) determines the resolution of the grid:\n",
        "- \\( h = 0.25 \\) results in \\( n = 1 / h = 4 \\) intervals.\n",
        "\n",
        "---\n",
        "\n",
        "### **Output**\n",
        "\n",
        "For \\( h = 0.25 \\), the solution is printed as:\n",
        "```plaintext\n",
        "x = 0.00, y = 1.0000\n",
        "x = 0.25, y = 1.3203\n",
        "x = 0.50, y = 1.8027\n",
        "x = 0.75, y = 2.1973\n",
        "x = 1.00, y = 2.0000\n",
        "```\n",
        "\n",
        "---\n",
        "\n",
        "### **Analysis**\n",
        "\n",
        "1. **Convergence**:\n",
        "   - The iterative solver ensures convergence to a stable solution.\n",
        "\n",
        "2. **Accuracy**:\n",
        "   - Smaller \\( h \\) improves accuracy but increases computational effort.\n",
        "\n",
        "3. **Extensions**:\n",
        "   - Can be adapted for more complex equations or boundary conditions."
      ],
      "metadata": {
        "id": "9kyQ7VHvXCSU"
      }
    },
    {
      "cell_type": "code",
      "execution_count": 5,
      "metadata": {
        "colab": {
          "base_uri": "https://localhost:8080/"
        },
        "id": "BKBDhhefVYXL",
        "outputId": "f6bdfb56-b416-4868-82f7-c250f6afcd96"
      },
      "outputs": [
        {
          "output_type": "stream",
          "name": "stdout",
          "text": [
            "x = 0.00, y = 1.0000\n",
            "x = 0.25, y = 1.2969\n",
            "x = 0.50, y = 1.6250\n",
            "x = 0.75, y = 1.8906\n",
            "x = 1.00, y = 2.0000\n"
          ]
        }
      ],
      "source": [
        "import numpy as np\n",
        "\n",
        "def bvp(h):\n",
        "    def f(x):\n",
        "        return 6 * x - 2  # The right-hand side of the differential equation\n",
        "\n",
        "    n = int(1 / h)  # Number of intervals\n",
        "    x = np.linspace(0, 1, n + 1)  # Discretized domain\n",
        "    y = np.zeros(n + 1)  # Initialize solution array\n",
        "\n",
        "    # Boundary conditions\n",
        "    y[0] = 1.0\n",
        "    y[-1] = 2.0\n",
        "\n",
        "    # Finite difference method\n",
        "    for _ in range(100):  # Iterative solver\n",
        "        y_old = y.copy()\n",
        "        for i in range(1, n):\n",
        "            y[i] = 0.5 * (h**2 * f(x[i]) + y[i-1] + y[i+1])\n",
        "\n",
        "        # Check for convergence\n",
        "        if np.allclose(y, y_old, atol=1e-6):\n",
        "            break\n",
        "\n",
        "    return x, y\n",
        "\n",
        "# Step size\n",
        "h = 0.25\n",
        "x, y = bvp(h)\n",
        "\n",
        "# Display results\n",
        "for i in range(len(x)):\n",
        "    print(f\"x = {x[i]:.2f}, y = {y[i]:.4f}\")\n"
      ]
    }
  ]
}