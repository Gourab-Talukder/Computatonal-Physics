{
 "cells": [
  {
   "cell_type": "markdown",
   "id": "638973b0-4ca3-4f84-a6e8-21de9cc4d422",
   "metadata": {},
   "source": [
    "### Lagrange interpolation"
   ]
  },
  {
   "cell_type": "code",
   "execution_count": 5,
   "id": "3379c3dd-776d-4c15-a5dc-049090d63277",
   "metadata": {},
   "outputs": [
    {
     "name": "stdin",
     "output_type": "stream",
     "text": [
      "Enter the number of data points:  2\n"
     ]
    },
    {
     "name": "stdout",
     "output_type": "stream",
     "text": [
      "Enter the x values:\n"
     ]
    },
    {
     "name": "stdin",
     "output_type": "stream",
     "text": [
      "x[0] =  1\n",
      "x[1] =  -2\n"
     ]
    },
    {
     "name": "stdout",
     "output_type": "stream",
     "text": [
      "[1.0, -2.0]\n",
      "Enter the y values:\n"
     ]
    },
    {
     "name": "stdin",
     "output_type": "stream",
     "text": [
      "y[0] =  1\n",
      "y[1] =  -9\n"
     ]
    },
    {
     "name": "stdout",
     "output_type": "stream",
     "text": [
      "[1.0, -9.0]\n"
     ]
    },
    {
     "name": "stdin",
     "output_type": "stream",
     "text": [
      "Enter the value of x1 for interpolation:  0.5\n"
     ]
    },
    {
     "name": "stdout",
     "output_type": "stream",
     "text": [
      "Result after Lagrange interpolation f(0.5) = -0.67\n"
     ]
    }
   ],
   "source": [
    "def lagrange(x, fx, x1, N):\n",
    "    lagf = 0\n",
    "    for i in range(N):\n",
    "        func = 1\n",
    "        for j in range(N):\n",
    "            if i != j:\n",
    "                func *= (x1 - x[j]) / (x[i] - x[j])\n",
    "        func *= fx[i]\n",
    "        lagf += func\n",
    "    return lagf\n",
    "\n",
    "# Input the number of data points\n",
    "N = int(input(\"Enter the number of data points: \"))\n",
    "\n",
    "# Input x and y values\n",
    "x = []\n",
    "y = []\n",
    "\n",
    "print(\"Enter the x values:\")\n",
    "for i in range(N):\n",
    "    value = float(input(f\"x[{i}] = \"))\n",
    "    x.append(value)\n",
    "print(x)\n",
    "print(\"Enter the y values:\")\n",
    "for i in range(N):\n",
    "    value = float(input(f\"y[{i}] = \"))\n",
    "    y.append(value)\n",
    "print(y)\n",
    "# Input the value of x1\n",
    "x1 = float(input(\"Enter the value of x1 for interpolation: \"))\n",
    "\n",
    "# Perform Lagrange interpolation\n",
    "result = lagrange(x, y, x1, N)\n",
    "\n",
    "# Output the result\n",
    "print(f\"Result after Lagrange interpolation f({x1}) = {result:.2f}\")\n"
   ]
  },
  {
   "cell_type": "code",
   "execution_count": null,
   "id": "c3d9ceea-71ee-4719-91a3-aaacc50ea176",
   "metadata": {},
   "outputs": [],
   "source": []
  }
 ],
 "metadata": {
  "kernelspec": {
   "display_name": "Python 3 (ipykernel)",
   "language": "python",
   "name": "python3"
  },
  "language_info": {
   "codemirror_mode": {
    "name": "ipython",
    "version": 3
   },
   "file_extension": ".py",
   "mimetype": "text/x-python",
   "name": "python",
   "nbconvert_exporter": "python",
   "pygments_lexer": "ipython3",
   "version": "3.12.5"
  }
 },
 "nbformat": 4,
 "nbformat_minor": 5
}
